{
  "nbformat": 4,
  "nbformat_minor": 0,
  "metadata": {
    "colab": {
      "name": "Gradient-Free openAI LunarLanderv2.ipynb",
      "provenance": [],
      "collapsed_sections": []
    },
    "kernelspec": {
      "name": "python3",
      "display_name": "Python 3"
    },
    "language_info": {
      "name": "python"
    }
  },
  "cells": [
    {
      "cell_type": "markdown",
      "source": [
        "# Mohammad.E.Asadolahi@gmail.com\n",
        "# https://github.com/MohammadAsadolahi\n",
        "Evolutionary_Sterategy-for-solving-OpenAi-Gym-LunarLander-v2  \n",
        "https://github.com/A-GAH/Gradient-Free-Reinforcement-Learning-solving-Openai-gym-LunarLanderV2-by-Evolution-Strategy/\n"
      ],
      "metadata": {
        "id": "00ugAjZliWGt"
      }
    },
    {
      "cell_type": "code",
      "execution_count": 1,
      "metadata": {
        "id": "u84zKCz8a489"
      },
      "outputs": [],
      "source": [
        "import numpy as np\n",
        "import matplotlib.pyplot as plt\n",
        "import gym\n",
        "import numpy as np\n",
        "import torch as T"
      ]
    },
    {
      "cell_type": "code",
      "source": [
        "!pip3 install box2d-py\n",
        "!pip3 install gym[Box_2D]"
      ],
      "metadata": {
        "id": "5XhyyA-7p945",
        "colab": {
          "base_uri": "https://localhost:8080/"
        },
        "outputId": "1ffd1487-6e53-4d5e-f901-303a651116ec"
      },
      "execution_count": 2,
      "outputs": [
        {
          "output_type": "stream",
          "name": "stdout",
          "text": [
            "Collecting box2d-py\n",
            "  Downloading box2d_py-2.3.8-cp37-cp37m-manylinux1_x86_64.whl (448 kB)\n",
            "\u001b[?25l\r\u001b[K     |▊                               | 10 kB 22.7 MB/s eta 0:00:01\r\u001b[K     |█▌                              | 20 kB 28.6 MB/s eta 0:00:01\r\u001b[K     |██▏                             | 30 kB 34.2 MB/s eta 0:00:01\r\u001b[K     |███                             | 40 kB 17.6 MB/s eta 0:00:01\r\u001b[K     |███▋                            | 51 kB 12.4 MB/s eta 0:00:01\r\u001b[K     |████▍                           | 61 kB 14.1 MB/s eta 0:00:01\r\u001b[K     |█████▏                          | 71 kB 13.6 MB/s eta 0:00:01\r\u001b[K     |█████▉                          | 81 kB 14.7 MB/s eta 0:00:01\r\u001b[K     |██████▋                         | 92 kB 16.0 MB/s eta 0:00:01\r\u001b[K     |███████▎                        | 102 kB 14.8 MB/s eta 0:00:01\r\u001b[K     |████████                        | 112 kB 14.8 MB/s eta 0:00:01\r\u001b[K     |████████▊                       | 122 kB 14.8 MB/s eta 0:00:01\r\u001b[K     |█████████▌                      | 133 kB 14.8 MB/s eta 0:00:01\r\u001b[K     |██████████▎                     | 143 kB 14.8 MB/s eta 0:00:01\r\u001b[K     |███████████                     | 153 kB 14.8 MB/s eta 0:00:01\r\u001b[K     |███████████▊                    | 163 kB 14.8 MB/s eta 0:00:01\r\u001b[K     |████████████▍                   | 174 kB 14.8 MB/s eta 0:00:01\r\u001b[K     |█████████████▏                  | 184 kB 14.8 MB/s eta 0:00:01\r\u001b[K     |█████████████▉                  | 194 kB 14.8 MB/s eta 0:00:01\r\u001b[K     |██████████████▋                 | 204 kB 14.8 MB/s eta 0:00:01\r\u001b[K     |███████████████▍                | 215 kB 14.8 MB/s eta 0:00:01\r\u001b[K     |████████████████                | 225 kB 14.8 MB/s eta 0:00:01\r\u001b[K     |████████████████▉               | 235 kB 14.8 MB/s eta 0:00:01\r\u001b[K     |█████████████████▌              | 245 kB 14.8 MB/s eta 0:00:01\r\u001b[K     |██████████████████▎             | 256 kB 14.8 MB/s eta 0:00:01\r\u001b[K     |███████████████████             | 266 kB 14.8 MB/s eta 0:00:01\r\u001b[K     |███████████████████▊            | 276 kB 14.8 MB/s eta 0:00:01\r\u001b[K     |████████████████████▌           | 286 kB 14.8 MB/s eta 0:00:01\r\u001b[K     |█████████████████████▏          | 296 kB 14.8 MB/s eta 0:00:01\r\u001b[K     |██████████████████████          | 307 kB 14.8 MB/s eta 0:00:01\r\u001b[K     |██████████████████████▋         | 317 kB 14.8 MB/s eta 0:00:01\r\u001b[K     |███████████████████████▍        | 327 kB 14.8 MB/s eta 0:00:01\r\u001b[K     |████████████████████████        | 337 kB 14.8 MB/s eta 0:00:01\r\u001b[K     |████████████████████████▉       | 348 kB 14.8 MB/s eta 0:00:01\r\u001b[K     |█████████████████████████▋      | 358 kB 14.8 MB/s eta 0:00:01\r\u001b[K     |██████████████████████████▎     | 368 kB 14.8 MB/s eta 0:00:01\r\u001b[K     |███████████████████████████     | 378 kB 14.8 MB/s eta 0:00:01\r\u001b[K     |███████████████████████████▊    | 389 kB 14.8 MB/s eta 0:00:01\r\u001b[K     |████████████████████████████▌   | 399 kB 14.8 MB/s eta 0:00:01\r\u001b[K     |█████████████████████████████▏  | 409 kB 14.8 MB/s eta 0:00:01\r\u001b[K     |██████████████████████████████  | 419 kB 14.8 MB/s eta 0:00:01\r\u001b[K     |██████████████████████████████▊ | 430 kB 14.8 MB/s eta 0:00:01\r\u001b[K     |███████████████████████████████▍| 440 kB 14.8 MB/s eta 0:00:01\r\u001b[K     |████████████████████████████████| 448 kB 14.8 MB/s \n",
            "\u001b[?25hInstalling collected packages: box2d-py\n",
            "Successfully installed box2d-py-2.3.8\n",
            "Requirement already satisfied: gym[Box_2D] in /usr/local/lib/python3.7/dist-packages (0.17.3)\n",
            "\u001b[33mWARNING: gym 0.17.3 does not provide the extra 'box_2d'\u001b[0m\n",
            "Requirement already satisfied: scipy in /usr/local/lib/python3.7/dist-packages (from gym[Box_2D]) (1.4.1)\n",
            "Requirement already satisfied: numpy>=1.10.4 in /usr/local/lib/python3.7/dist-packages (from gym[Box_2D]) (1.21.6)\n",
            "Requirement already satisfied: cloudpickle<1.7.0,>=1.2.0 in /usr/local/lib/python3.7/dist-packages (from gym[Box_2D]) (1.3.0)\n",
            "Requirement already satisfied: pyglet<=1.5.0,>=1.4.0 in /usr/local/lib/python3.7/dist-packages (from gym[Box_2D]) (1.5.0)\n",
            "Requirement already satisfied: future in /usr/local/lib/python3.7/dist-packages (from pyglet<=1.5.0,>=1.4.0->gym[Box_2D]) (0.16.0)\n"
          ]
        }
      ]
    },
    {
      "cell_type": "code",
      "source": [
        "import time\n",
        "env = gym.make('LunarLander-v2')"
      ],
      "metadata": {
        "id": "1Mes38XwH3KK"
      },
      "execution_count": 11,
      "outputs": []
    },
    {
      "cell_type": "code",
      "source": [
        "class NN(T.nn.Module):\n",
        "    def __init__(self,inputDims=1,output=1):\n",
        "        super().__init__()\n",
        "        self.layers=T.nn.ModuleList()\n",
        "        self.layers.append(T.nn.Linear(inputDims,256))\n",
        "        self.layers.append(T.nn.Linear(256,output))\n",
        "    def state2Value(self,X):\n",
        "        o=T.tensor(X,dtype=T.float)\n",
        "        for i in self.layers:\n",
        "            o=i(o)\n",
        "        return np.argmax(o.detach().numpy())\n",
        "    def setWeights(self,weights):\n",
        "      with T.no_grad(): \n",
        "        self.layers[0].weight=T.nn.parameter.Parameter(weights[:(self.layers[0].weight).view(-1).shape[0]].reshape(self.layers[0].weight.shape))\n",
        "        self.layers[1].weight=T.nn.parameter.Parameter(weights[(self.layers[0].weight).view(-1).shape[0]:].reshape(self.layers[1].weight.shape))\n",
        "    def getWeights(self):\n",
        "      return T.cat((self.layers[0].weight.reshape(-1),self.layers[1].weight.reshape(-1)),0)"
      ],
      "metadata": {
        "id": "wjQhg1IAoyh6"
      },
      "execution_count": 4,
      "outputs": []
    },
    {
      "cell_type": "code",
      "source": [
        "nn=NN(env.observation_space.shape[0],env.action_space.n)"
      ],
      "metadata": {
        "id": "gGKcS-Wi-sUe"
      },
      "execution_count": 12,
      "outputs": []
    },
    {
      "cell_type": "code",
      "source": [
        "def runEvolution(rewardFunction,populationSize,generationSize,sigma,lr,NN):\n",
        "  parameters=NN.getWeights()\n",
        "  rewards=[]\n",
        "  for g in range(generationSize):\n",
        "    noise=T.randn(populationSize,parameters.shape[0])\n",
        "    springs=noise*sigma\n",
        "    reward=T.zeros(populationSize)\n",
        "    for i in range(populationSize):\n",
        "      spring=parameters+springs[i]\n",
        "      NN.setWeights(spring)\n",
        "      reward[i]=rewardFunction(NN)\n",
        "    rewards.append(reward.mean())\n",
        "    advantage=(reward-reward.mean())/reward.std()\n",
        "    # print(T.matmul(noise.T,advantage))\n",
        "    parameters=parameters+lr/(populationSize*sigma)*T.matmul(noise.T,advantage)\n",
        "    print(f\"generation: {g} Average Reward: {reward.mean()} Best reward:{max(reward)}\")\n",
        "    lr *= 0.992354\n",
        "  return parameters,rewards\n",
        "def rewardFunction(NN):\n",
        "  totalRewards=[]\n",
        "  for i in range(10):\n",
        "    done=False\n",
        "    state=env.reset()\n",
        "    rewards=0\n",
        "    while not done:\n",
        "      action=NN.state2Value(state)\n",
        "      nextState,reward,done,info=env.step(action)\n",
        "      rewards+=reward\n",
        "      state=nextState\n",
        "    totalRewards.append(rewards)\n",
        "  return sum(totalRewards)/len(totalRewards)\n",
        "parameters,rewards=runEvolution(rewardFunction,populationSize=50,generationSize=50,sigma=0.1,lr=0.03,NN=nn)\n",
        "plt.title(f'Average Rewards')\n",
        "plt.plot(rewards)\n",
        "plt.savefig(\"Average Rewards\",dpi=200)"
      ],
      "metadata": {
        "colab": {
          "base_uri": "https://localhost:8080/",
          "height": 1000
        },
        "id": "ZSYHq1TRI01H",
        "outputId": "d938138b-9b53-4c8e-ca0c-c190f2121fdf"
      },
      "execution_count": 13,
      "outputs": [
        {
          "output_type": "stream",
          "name": "stdout",
          "text": [
            "generation: 0 Average Reward: -538.583251953125 Best reward:-156.47698974609375\n",
            "generation: 1 Average Reward: -316.5377197265625 Best reward:-63.06631851196289\n",
            "generation: 2 Average Reward: -215.0087432861328 Best reward:-75.97962188720703\n",
            "generation: 3 Average Reward: -155.26268005371094 Best reward:-83.45104217529297\n",
            "generation: 4 Average Reward: -134.10035705566406 Best reward:-23.528057098388672\n",
            "generation: 5 Average Reward: -146.13290405273438 Best reward:-63.603675842285156\n",
            "generation: 6 Average Reward: -118.82445526123047 Best reward:-56.470787048339844\n",
            "generation: 7 Average Reward: -120.94194030761719 Best reward:0.8265160918235779\n",
            "generation: 8 Average Reward: -124.09735107421875 Best reward:-58.74011993408203\n",
            "generation: 9 Average Reward: -108.97384643554688 Best reward:-42.318382263183594\n",
            "generation: 10 Average Reward: -121.54873657226562 Best reward:9.485918998718262\n",
            "generation: 11 Average Reward: -100.96890258789062 Best reward:-43.67923355102539\n",
            "generation: 12 Average Reward: -96.7850112915039 Best reward:-8.623652458190918\n",
            "generation: 13 Average Reward: -91.60845947265625 Best reward:-0.09553898125886917\n",
            "generation: 14 Average Reward: -90.27456665039062 Best reward:-35.526153564453125\n",
            "generation: 15 Average Reward: -84.70771789550781 Best reward:-9.827710151672363\n",
            "generation: 16 Average Reward: -73.10737609863281 Best reward:49.21298599243164\n",
            "generation: 17 Average Reward: -90.42571258544922 Best reward:2.838597297668457\n",
            "generation: 18 Average Reward: -66.53604125976562 Best reward:-5.204407691955566\n",
            "generation: 19 Average Reward: -39.746524810791016 Best reward:78.11090850830078\n",
            "generation: 20 Average Reward: -15.870380401611328 Best reward:99.40658569335938\n",
            "generation: 21 Average Reward: 2.8039019107818604 Best reward:188.47122192382812\n",
            "generation: 22 Average Reward: 37.92600631713867 Best reward:254.58567810058594\n",
            "generation: 23 Average Reward: 28.925466537475586 Best reward:197.09890747070312\n",
            "generation: 24 Average Reward: 48.34407043457031 Best reward:247.353515625\n",
            "generation: 25 Average Reward: 79.406982421875 Best reward:273.5567932128906\n",
            "generation: 26 Average Reward: 96.988525390625 Best reward:246.77540588378906\n",
            "generation: 27 Average Reward: 115.12902069091797 Best reward:272.916748046875\n",
            "generation: 28 Average Reward: 89.48794555664062 Best reward:257.3977355957031\n",
            "generation: 29 Average Reward: 112.94854736328125 Best reward:272.1145324707031\n",
            "generation: 30 Average Reward: 120.39783477783203 Best reward:261.2518005371094\n",
            "generation: 31 Average Reward: 128.7265625 Best reward:272.9747619628906\n",
            "generation: 32 Average Reward: 119.7573471069336 Best reward:263.0072937011719\n",
            "generation: 33 Average Reward: 141.4206085205078 Best reward:257.6456604003906\n",
            "generation: 34 Average Reward: 142.52574157714844 Best reward:256.87066650390625\n",
            "generation: 35 Average Reward: 154.31227111816406 Best reward:259.0538635253906\n",
            "generation: 36 Average Reward: 157.88743591308594 Best reward:265.25201416015625\n",
            "generation: 37 Average Reward: 155.42425537109375 Best reward:270.1329345703125\n",
            "generation: 38 Average Reward: 179.43057250976562 Best reward:284.30987548828125\n",
            "generation: 39 Average Reward: 162.57015991210938 Best reward:287.66607666015625\n",
            "generation: 40 Average Reward: 144.10289001464844 Best reward:268.65216064453125\n",
            "generation: 41 Average Reward: 184.30714416503906 Best reward:272.1533508300781\n",
            "generation: 42 Average Reward: 185.44000244140625 Best reward:275.0975036621094\n",
            "generation: 43 Average Reward: 182.36648559570312 Best reward:267.7082824707031\n",
            "generation: 44 Average Reward: 174.31451416015625 Best reward:276.5592041015625\n",
            "generation: 45 Average Reward: 194.7252960205078 Best reward:275.2507629394531\n",
            "generation: 46 Average Reward: 187.82977294921875 Best reward:279.0582275390625\n",
            "generation: 47 Average Reward: 183.6601104736328 Best reward:266.5592346191406\n",
            "generation: 48 Average Reward: 217.5045166015625 Best reward:271.5887145996094\n",
            "generation: 49 Average Reward: 193.0800018310547 Best reward:277.8978576660156\n"
          ]
        },
        {
          "output_type": "display_data",
          "data": {
            "text/plain": [
              "<Figure size 432x288 with 1 Axes>"
            ],
            "image/png": "[encoded data removed]"
          },
          "metadata": {
            "needs_background": "light"
          }
        }
      ]
    }
  ]
}
